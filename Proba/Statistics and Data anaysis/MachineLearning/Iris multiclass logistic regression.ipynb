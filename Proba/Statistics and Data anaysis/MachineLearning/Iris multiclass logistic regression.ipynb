{
 "cells": [
  {
   "cell_type": "code",
   "execution_count": 1,
   "metadata": {},
   "outputs": [],
   "source": [
    "using Flux\n",
    "using MLDatasets, DataFrames\n",
    "using Flux: logitcrossentropy, normalise, onehotbatch\n",
    "using Statistics: mean, std"
   ]
  },
  {
   "cell_type": "code",
   "execution_count": 3,
   "metadata": {},
   "outputs": [
    {
     "data": {
      "text/plain": [
       "dataset Iris:\n",
       "  metadata   =>    Dict{String, Any} with 4 entries\n",
       "  features   =>    150×4 DataFrame\n",
       "  targets    =>    150×1 DataFrame\n",
       "  dataframe  =>    150×5 DataFrame"
      ]
     },
     "execution_count": 3,
     "metadata": {},
     "output_type": "execute_result"
    }
   ],
   "source": [
    "iris_data = Iris()"
   ]
  },
  {
   "cell_type": "code",
   "execution_count": 9,
   "metadata": {},
   "outputs": [],
   "source": [
    "features = Matrix(iris_data.features[:,3:4])\n",
    "labels = Matrix(iris_data.targets);"
   ]
  },
  {
   "cell_type": "code",
   "execution_count": 10,
   "metadata": {},
   "outputs": [],
   "source": [
    "normed_features = normalise(features, dims=1)';"
   ]
  },
  {
   "cell_type": "code",
   "execution_count": 11,
   "metadata": {},
   "outputs": [
    {
     "data": {
      "text/plain": [
       "3×150×1 OneHotArray(::Matrix{UInt32}) with eltype Bool:\n",
       "[:, :, 1] =\n",
       " 1  1  1  1  1  1  1  1  1  1  1  1  1  …  0  0  0  0  0  0  0  0  0  0  0  0\n",
       " 0  0  0  0  0  0  0  0  0  0  0  0  0     0  0  0  0  0  0  0  0  0  0  0  0\n",
       " 0  0  0  0  0  0  0  0  0  0  0  0  0     1  1  1  1  1  1  1  1  1  1  1  1"
      ]
     },
     "execution_count": 11,
     "metadata": {},
     "output_type": "execute_result"
    }
   ],
   "source": [
    "classes = sort(unique(labels))\n",
    "onehot_labels = onehotbatch(labels, classes)"
   ]
  },
  {
   "cell_type": "code",
   "execution_count": 6,
   "metadata": {},
   "outputs": [
    {
     "data": {
      "text/plain": [
       "Base.Iterators.Take{Base.Iterators.Repeated{Tuple{LinearAlgebra.Adjoint{Float64, Matrix{Float64}}, Flux.OneHotArray{UInt32, 3, 2, 3, Matrix{UInt32}}}}}(Base.Iterators.Repeated{Tuple{LinearAlgebra.Adjoint{Float64, Matrix{Float64}}, Flux.OneHotArray{UInt32, 3, 2, 3, Matrix{UInt32}}}}(([-1.3412647775632507 -1.3412647775632507 … 0.9333504472472365 0.7627543053864495; -1.3129594653921026 -1.3129594653921026 … 1.4479366066940933 0.790580399054523], [1 1 … 0 0; 0 0 … 0 0; 0 0 … 1 1;;;])), 110)"
      ]
     },
     "execution_count": 6,
     "metadata": {},
     "output_type": "execute_result"
    },
    {
     "name": "stderr",
     "output_type": "stream",
     "text": [
      "WARNING: both Losses and NNlib export \"ctc_loss\"; uses of it in module Flux must be qualified\n"
     ]
    }
   ],
   "source": [
    "train_data = Iterators.repeated((normed_features, onehot_labels), 110)"
   ]
  },
  {
   "cell_type": "code",
   "execution_count": 7,
   "metadata": {},
   "outputs": [
    {
     "data": {
      "text/plain": [
       "Chain(\n",
       "  Dense(2 => 3),                        \u001b[90m# 9 parameters\u001b[39m\n",
       ") "
      ]
     },
     "execution_count": 7,
     "metadata": {},
     "output_type": "execute_result"
    }
   ],
   "source": [
    "model = Chain(Dense(2, 3))"
   ]
  },
  {
   "cell_type": "code",
   "execution_count": 8,
   "metadata": {},
   "outputs": [
    {
     "data": {
      "text/plain": [
       "loss (generic function with 1 method)"
      ]
     },
     "execution_count": 8,
     "metadata": {},
     "output_type": "execute_result"
    }
   ],
   "source": [
    "loss(x, y) = logitcrossentropy(model(x), y)"
   ]
  },
  {
   "cell_type": "code",
   "execution_count": 9,
   "metadata": {},
   "outputs": [
    {
     "data": {
      "text/plain": [
       "Descent(0.5)"
      ]
     },
     "execution_count": 9,
     "metadata": {},
     "output_type": "execute_result"
    }
   ],
   "source": [
    "optimiser = Descent(0.5)"
   ]
  },
  {
   "cell_type": "code",
   "execution_count": 26,
   "metadata": {},
   "outputs": [],
   "source": [
    "Flux.train!(loss, Flux.params(model), train_data, optimiser)"
   ]
  },
  {
   "cell_type": "code",
   "execution_count": 11,
   "metadata": {},
   "outputs": [
    {
     "data": {
      "text/plain": [
       "2-element Vector{Float64}:\n",
       " 1.7644204199522626\n",
       " 0.7631607417008412"
      ]
     },
     "execution_count": 11,
     "metadata": {},
     "output_type": "execute_result"
    }
   ],
   "source": [
    "μ = mean.( [ features[:,1], features[:,2] ] )\n",
    "sig = std.( [ features[:,1], features[:,2] ] ) "
   ]
  },
  {
   "cell_type": "code",
   "execution_count": 12,
   "metadata": {},
   "outputs": [
    {
     "data": {
      "text/plain": [
       "iris_class (generic function with 1 method)"
      ]
     },
     "execution_count": 12,
     "metadata": {},
     "output_type": "execute_result"
    }
   ],
   "source": [
    "function iris_class(x::Array{Float64,1})\n",
    "    z  = (x .- μ)./sig\n",
    "    return argmax( softmax( model( z ) ) )\n",
    "end"
   ]
  },
  {
   "cell_type": "code",
   "execution_count": 13,
   "metadata": {},
   "outputs": [
    {
     "data": {
      "text/plain": [
       "Plots.PyPlotBackend()"
      ]
     },
     "execution_count": 13,
     "metadata": {},
     "output_type": "execute_result"
    }
   ],
   "source": [
    "using Plots, LaTeXStrings\n",
    "pyplot()"
   ]
  },
  {
   "cell_type": "code",
   "execution_count": 53,
   "metadata": {},
   "outputs": [],
   "source": [
    "setosa_ind =  Matrix(iris_data.targets .== \"Iris-setosa\")[:,1]\n",
    "versicolor_ind =  Matrix(iris_data.targets .== \"Iris-versicolor\")[:,1]\n",
    "virginica_ind =  Matrix(iris_data.targets .== \"Iris-virginica\")[:,1];"
   ]
  },
  {
   "cell_type": "code",
   "execution_count": 86,
   "metadata": {},
   "outputs": [
    {
     "data": {
      "image/png": "[encoded data removed]"
     },
     "execution_count": 86,
     "metadata": {},
     "output_type": "execute_result"
    }
   ],
   "source": [
    "contourf( LinRange(0.0,8.0,100), LinRange(-1.0,4.0,100),\n",
    "    (x,y)-> iris_class([x,y]), fill=true, levels=10, xlim=(0,8), ylim=(-1,4), c=:jet, alpha=0.25, legend = :none )\n",
    "scatter!( Array(iris_data.features[:,3])[ virginica_ind ], Array(iris_data.features[:,4])[ virginica_ind ], label=\"\", markerstrokewidth=0.5, c=:red )\n",
    "scatter!( Array(iris_data.features[:,3])[ setosa_ind ], Array(iris_data.features[:,4])[ setosa_ind ], label=\"\", markerstrokewidth=0.5, c=:blue )\n",
    "scatter!( Array(iris_data.features[:,3])[ versicolor_ind ], Array(iris_data.features[:,4])[ versicolor_ind ], label=\"\", markerstrokewidth=0.5, c=:green )\n",
    "xlabel!(\"Longitud pétalos\")\n",
    "ylabel!(\"Grosor pétalos\")"
   ]
  },
  {
   "cell_type": "code",
   "execution_count": 70,
   "metadata": {},
   "outputs": [
    {
     "data": {
      "text/html": [
       "<div class=\"data-frame\"><p>150 rows × 4 columns</p><table class=\"data-frame\"><thead><tr><th></th><th>sepallength</th><th>sepalwidth</th><th>petallength</th><th>petalwidth</th></tr><tr><th></th><th title=\"Float64\">Float64</th><th title=\"Float64\">Float64</th><th title=\"Float64\">Float64</th><th title=\"Float64\">Float64</th></tr></thead><tbody><tr><th>1</th><td>5.1</td><td>3.5</td><td>1.4</td><td>0.2</td></tr><tr><th>2</th><td>4.9</td><td>3.0</td><td>1.4</td><td>0.2</td></tr><tr><th>3</th><td>4.7</td><td>3.2</td><td>1.3</td><td>0.2</td></tr><tr><th>4</th><td>4.6</td><td>3.1</td><td>1.5</td><td>0.2</td></tr><tr><th>5</th><td>5.0</td><td>3.6</td><td>1.4</td><td>0.2</td></tr><tr><th>6</th><td>5.4</td><td>3.9</td><td>1.7</td><td>0.4</td></tr><tr><th>7</th><td>4.6</td><td>3.4</td><td>1.4</td><td>0.3</td></tr><tr><th>8</th><td>5.0</td><td>3.4</td><td>1.5</td><td>0.2</td></tr><tr><th>9</th><td>4.4</td><td>2.9</td><td>1.4</td><td>0.2</td></tr><tr><th>10</th><td>4.9</td><td>3.1</td><td>1.5</td><td>0.1</td></tr><tr><th>11</th><td>5.4</td><td>3.7</td><td>1.5</td><td>0.2</td></tr><tr><th>12</th><td>4.8</td><td>3.4</td><td>1.6</td><td>0.2</td></tr><tr><th>13</th><td>4.8</td><td>3.0</td><td>1.4</td><td>0.1</td></tr><tr><th>14</th><td>4.3</td><td>3.0</td><td>1.1</td><td>0.1</td></tr><tr><th>15</th><td>5.8</td><td>4.0</td><td>1.2</td><td>0.2</td></tr><tr><th>16</th><td>5.7</td><td>4.4</td><td>1.5</td><td>0.4</td></tr><tr><th>17</th><td>5.4</td><td>3.9</td><td>1.3</td><td>0.4</td></tr><tr><th>18</th><td>5.1</td><td>3.5</td><td>1.4</td><td>0.3</td></tr><tr><th>19</th><td>5.7</td><td>3.8</td><td>1.7</td><td>0.3</td></tr><tr><th>20</th><td>5.1</td><td>3.8</td><td>1.5</td><td>0.3</td></tr><tr><th>21</th><td>5.4</td><td>3.4</td><td>1.7</td><td>0.2</td></tr><tr><th>22</th><td>5.1</td><td>3.7</td><td>1.5</td><td>0.4</td></tr><tr><th>23</th><td>4.6</td><td>3.6</td><td>1.0</td><td>0.2</td></tr><tr><th>24</th><td>5.1</td><td>3.3</td><td>1.7</td><td>0.5</td></tr><tr><th>25</th><td>4.8</td><td>3.4</td><td>1.9</td><td>0.2</td></tr><tr><th>26</th><td>5.0</td><td>3.0</td><td>1.6</td><td>0.2</td></tr><tr><th>27</th><td>5.0</td><td>3.4</td><td>1.6</td><td>0.4</td></tr><tr><th>28</th><td>5.2</td><td>3.5</td><td>1.5</td><td>0.2</td></tr><tr><th>29</th><td>5.2</td><td>3.4</td><td>1.4</td><td>0.2</td></tr><tr><th>30</th><td>4.7</td><td>3.2</td><td>1.6</td><td>0.2</td></tr><tr><th>&vellip;</th><td>&vellip;</td><td>&vellip;</td><td>&vellip;</td><td>&vellip;</td></tr></tbody></table></div>"
      ],
      "text/latex": [
       "\\begin{tabular}{r|cccc}\n",
       "\t& sepallength & sepalwidth & petallength & petalwidth\\\\\n",
       "\t\\hline\n",
       "\t& Float64 & Float64 & Float64 & Float64\\\\\n",
       "\t\\hline\n",
       "\t1 & 5.1 & 3.5 & 1.4 & 0.2 \\\\\n",
       "\t2 & 4.9 & 3.0 & 1.4 & 0.2 \\\\\n",
       "\t3 & 4.7 & 3.2 & 1.3 & 0.2 \\\\\n",
       "\t4 & 4.6 & 3.1 & 1.5 & 0.2 \\\\\n",
       "\t5 & 5.0 & 3.6 & 1.4 & 0.2 \\\\\n",
       "\t6 & 5.4 & 3.9 & 1.7 & 0.4 \\\\\n",
       "\t7 & 4.6 & 3.4 & 1.4 & 0.3 \\\\\n",
       "\t8 & 5.0 & 3.4 & 1.5 & 0.2 \\\\\n",
       "\t9 & 4.4 & 2.9 & 1.4 & 0.2 \\\\\n",
       "\t10 & 4.9 & 3.1 & 1.5 & 0.1 \\\\\n",
       "\t11 & 5.4 & 3.7 & 1.5 & 0.2 \\\\\n",
       "\t12 & 4.8 & 3.4 & 1.6 & 0.2 \\\\\n",
       "\t13 & 4.8 & 3.0 & 1.4 & 0.1 \\\\\n",
       "\t14 & 4.3 & 3.0 & 1.1 & 0.1 \\\\\n",
       "\t15 & 5.8 & 4.0 & 1.2 & 0.2 \\\\\n",
       "\t16 & 5.7 & 4.4 & 1.5 & 0.4 \\\\\n",
       "\t17 & 5.4 & 3.9 & 1.3 & 0.4 \\\\\n",
       "\t18 & 5.1 & 3.5 & 1.4 & 0.3 \\\\\n",
       "\t19 & 5.7 & 3.8 & 1.7 & 0.3 \\\\\n",
       "\t20 & 5.1 & 3.8 & 1.5 & 0.3 \\\\\n",
       "\t21 & 5.4 & 3.4 & 1.7 & 0.2 \\\\\n",
       "\t22 & 5.1 & 3.7 & 1.5 & 0.4 \\\\\n",
       "\t23 & 4.6 & 3.6 & 1.0 & 0.2 \\\\\n",
       "\t24 & 5.1 & 3.3 & 1.7 & 0.5 \\\\\n",
       "\t25 & 4.8 & 3.4 & 1.9 & 0.2 \\\\\n",
       "\t26 & 5.0 & 3.0 & 1.6 & 0.2 \\\\\n",
       "\t27 & 5.0 & 3.4 & 1.6 & 0.4 \\\\\n",
       "\t28 & 5.2 & 3.5 & 1.5 & 0.2 \\\\\n",
       "\t29 & 5.2 & 3.4 & 1.4 & 0.2 \\\\\n",
       "\t30 & 4.7 & 3.2 & 1.6 & 0.2 \\\\\n",
       "\t$\\dots$ & $\\dots$ & $\\dots$ & $\\dots$ & $\\dots$ \\\\\n",
       "\\end{tabular}\n"
      ],
      "text/plain": [
       "\u001b[1m150×4 DataFrame\u001b[0m\n",
       "\u001b[1m Row \u001b[0m│\u001b[1m sepallength \u001b[0m\u001b[1m sepalwidth \u001b[0m\u001b[1m petallength \u001b[0m\u001b[1m petalwidth \u001b[0m\n",
       "\u001b[1m     \u001b[0m│\u001b[90m Float64     \u001b[0m\u001b[90m Float64    \u001b[0m\u001b[90m Float64     \u001b[0m\u001b[90m Float64    \u001b[0m\n",
       "─────┼──────────────────────────────────────────────────\n",
       "   1 │         5.1         3.5          1.4         0.2\n",
       "   2 │         4.9         3.0          1.4         0.2\n",
       "   3 │         4.7         3.2          1.3         0.2\n",
       "   4 │         4.6         3.1          1.5         0.2\n",
       "   5 │         5.0         3.6          1.4         0.2\n",
       "   6 │         5.4         3.9          1.7         0.4\n",
       "   7 │         4.6         3.4          1.4         0.3\n",
       "   8 │         5.0         3.4          1.5         0.2\n",
       "   9 │         4.4         2.9          1.4         0.2\n",
       "  10 │         4.9         3.1          1.5         0.1\n",
       "  11 │         5.4         3.7          1.5         0.2\n",
       "  ⋮  │      ⋮           ⋮            ⋮           ⋮\n",
       " 141 │         6.7         3.1          5.6         2.4\n",
       " 142 │         6.9         3.1          5.1         2.3\n",
       " 143 │         5.8         2.7          5.1         1.9\n",
       " 144 │         6.8         3.2          5.9         2.3\n",
       " 145 │         6.7         3.3          5.7         2.5\n",
       " 146 │         6.7         3.0          5.2         2.3\n",
       " 147 │         6.3         2.5          5.0         1.9\n",
       " 148 │         6.5         3.0          5.2         2.0\n",
       " 149 │         6.2         3.4          5.4         2.3\n",
       " 150 │         5.9         3.0          5.1         1.8\n",
       "\u001b[36m                                        129 rows omitted\u001b[0m"
      ]
     },
     "execution_count": 70,
     "metadata": {},
     "output_type": "execute_result"
    }
   ],
   "source": [
    "iris_data.features"
   ]
  }
 ],
 "metadata": {
  "@webio": {
   "lastCommId": null,
   "lastKernelId": null
  },
  "kernelspec": {
   "display_name": "Julia 1.10.4",
   "language": "julia",
   "name": "julia-1.10"
  },
  "language_info": {
   "file_extension": ".jl",
   "mimetype": "application/julia",
   "name": "julia",
   "version": "1.10.4"
  }
 },
 "nbformat": 4,
 "nbformat_minor": 5
}
